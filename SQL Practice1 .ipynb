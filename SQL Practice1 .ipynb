{
 "cells": [
  {
   "cell_type": "code",
   "execution_count": null,
   "id": "2ba9a0e2",
   "metadata": {},
   "outputs": [],
   "source": [
    "import sqlite3\n",
    "import pandas as pd\n",
    "import numpy as np\n",
    "import plotly.express as px"
   ]
  },
  {
   "cell_type": "markdown",
   "id": "ec9f3526",
   "metadata": {},
   "source": [
    "## Creating Database/tables"
   ]
  },
  {
   "cell_type": "code",
   "execution_count": null,
   "id": "4a7582c3",
   "metadata": {},
   "outputs": [],
   "source": [
    "create_patient_info = '''CREATE TABLE patient_info(\n",
    "    ID INT [PRIMARY KEY UNIQUE],\n",
    "    HOSPITAL_ID TEXT UNIQUE,\n",
    "    NAME TEXT ,\n",
    "    BALANCE INT ,\n",
    "    DOB datetime ,\n",
    "    PROVIDER TEXT \n",
    "    \n",
    ");'''"
   ]
  },
  {
   "cell_type": "code",
   "execution_count": null,
   "id": "053f8ed8",
   "metadata": {},
   "outputs": [],
   "source": [
    "patient_cols =[ 'ID',\n",
    "    'HOSPITAL_ID' ,\n",
    "    'NAME' ,\n",
    "    'BALANCE' ,\n",
    "    'DOB' ,\n",
    "    'PROVIDER' ] \n",
    "    \n",
    "hospital_cols =  ['ID' ,\n",
    "    'PATIENT_ID' ,\n",
    "    'HOSPITAL' ,\n",
    "    'PHYSICIAN' ,\n",
    "    'ADMITTED' ,\n",
    "    'DISCHARGED'] \n"
   ]
  },
  {
   "cell_type": "code",
   "execution_count": null,
   "id": "134793e5",
   "metadata": {},
   "outputs": [],
   "source": [
    "create_hos_info = '''CREATE TABLE hospital_info(\n",
    "    ID INT PRIMARY KEY UNIQUE,\n",
    "    PATIENT_ID INT UNIQUE,\n",
    "    HOSPITAL TEXT ,\n",
    "    PHYSICIAN TEXT ,\n",
    "    ADMITTED datetime,\n",
    "    DISCHARGED datetime);'''\n"
   ]
  },
  {
   "cell_type": "code",
   "execution_count": null,
   "id": "fc688617",
   "metadata": {},
   "outputs": [],
   "source": [
    "# drop tables \n",
    "\n",
    "drop_patients =  '''DROP TABLE patient_info'''\n",
    "\n",
    "drop_hospitals = '''DROP TABLE hospital_info'''\n",
    "\n",
    "conn = sqlite3.connect('hospital_data.db', timeout = 35)\n",
    "conn.execute(drop_patients)\n",
    "conn.execute(drop_hospitals)\n",
    "\n",
    "conn.close()"
   ]
  },
  {
   "cell_type": "code",
   "execution_count": null,
   "id": "32263fd5",
   "metadata": {},
   "outputs": [],
   "source": [
    "conn = sqlite3.connect('hospital_data.db',timeout=35)\n",
    "conn.execute(create_hos_info)\n",
    "conn.execute(create_patient_info)\n",
    "conn.close()"
   ]
  },
  {
   "cell_type": "code",
   "execution_count": null,
   "id": "065c7fc6",
   "metadata": {},
   "outputs": [],
   "source": [
    "names1 = ['malik', 'jack', 'sam', 'arun', 'brian', 'skye', 'evan']\n",
    "names = [[names1[i]] for i in range(len(names1))]\n",
    "\n",
    "hospital_id = list(np.arange(331,338))\n",
    "ID_list = np.arange(1,8)\n",
    "HOSPITAL_ID  = np.arange(10001,10008)\n",
    "BALANCE = [-100, 256, 443,655,735,-2000,123] \n",
    "\n",
    "DOB  = ['10-2-03', '1-4-22', '5-5-98', '11-3-2006 ', '6-6-66', '9-9-99', '2-20-89']\n",
    "PROVIDER = ['cigna','etna', 'bcbs', 'united_health', 'medicade', 'bright', 'humana']\n",
    "hos = ['st annes', 'gotham general', 'WWMCS', 'gotham general', 'st annes', 'gotham general', 'l tildens']\n",
    "psychian = ['dr mark', 'dr hyde', 'dr polly', 'dr mark', 'dr hyde', 'dr meddlford', 'dr claus']\n",
    "admit = [1,1,1,0,1,0,1]\n",
    "DISCHARGED = [0,0,1,1,0,0,0]\n",
    "\n",
    "print(ID_list)\n",
    "print(HOSPITAL_ID)\n",
    "print(BALANCE)\n",
    "print(DOB)\n",
    "print(PROVIDER)"
   ]
  },
  {
   "cell_type": "code",
   "execution_count": null,
   "id": "55cac44a",
   "metadata": {},
   "outputs": [],
   "source": [
    "master_list = [list(ID_list), list(HOSPITAL_ID),names1,\n",
    "               BALANCE, DOB, PROVIDER, hospital_id,\n",
    "\n",
    "tables = ['patient_info', 'hospital_info']\n",
    "\n"
   ]
  },
  {
   "cell_type": "code",
   "execution_count": null,
   "id": "bd36113d",
   "metadata": {},
   "outputs": [],
   "source": [
    "# def update(conn, tables, columns, data_lists):\n",
    "#     c = conn.cursor()\n",
    "#     print('UPDATE {} SET {}= ?'.format(table,column))\n",
    "#     for x in tables:\n",
    "#         for b in columns:\n",
    "#             for z in data_lists:\n",
    "#                 c.executemany('INSERT INTO {x} ({b}) values(?)'.format(table,column), ((val,) for val in z))\n",
    "#     #print(c.rowcount(), 'updated')\n",
    "#     conn.commit()\n",
    "#     c.close()"
   ]
  },
  {
   "cell_type": "code",
   "execution_count": null,
   "id": "444b48eb",
   "metadata": {},
   "outputs": [],
   "source": [
    "conn = sqlite3.connect('hospital_data.db',timeout=45)\n",
    "update(conn, tables, , master_list)"
   ]
  },
  {
   "cell_type": "code",
   "execution_count": null,
   "id": "1b2fde73",
   "metadata": {},
   "outputs": [],
   "source": [
    "conn = sqlite3.connect('hospital_data.db',timeout=45)\n",
    "update(conn, 'patient_info', 'NAME', master_list)"
   ]
  },
  {
   "cell_type": "code",
   "execution_count": null,
   "id": "bcbdb299",
   "metadata": {},
   "outputs": [],
   "source": [
    "conn = sqlite3.connect('hospital_data.db',timeout=45)\n",
    "update(conn, 'patient_info', 'HOSPITAL_ID', HOSPITAL_ID)"
   ]
  },
  {
   "cell_type": "code",
   "execution_count": null,
   "id": "df9e4faa",
   "metadata": {},
   "outputs": [],
   "source": [
    "def update_tables(conn, table, column, data):\n",
    "    c = conn.cursor()\n",
    "    for item in data:\n",
    "        print(\"INSERT INTO {} ({}) VALUES (?)\".format(table, column))\n",
    "        c.execute(\"INSERT INTO {} ({}) VALUES (?)\".format(table, column), (str(item), ))\n",
    "        \n",
    "    print(\"n_rows\", conn.cursor().rowcount, \"Updated!\")\n",
    "        \n",
    "    conn.commit()\n",
    "    c.close()"
   ]
  },
  {
   "cell_type": "code",
   "execution_count": null,
   "id": "01d0fbb4",
   "metadata": {},
   "outputs": [],
   "source": [
    "conn = sqlite3.connect('hospital_data.db',timeout=10)\n",
    "\n",
    "update_tables( conn,'patient_info', 'NAME', names1)\n",
    "update_tables( conn,'patient_info', 'ID', ID_list)\n",
    "update_tables( conn,'patient_info', 'HOSPITAL_ID', HOSPITAL_ID)\n",
    "update_tables( conn,'patient_info', 'BALANCE', BALANCE)\n",
    "update_tables( conn,'patient_info', 'DOB', DOB)\n",
    "update_tables( conn,'patient_info', 'PROVIDER', PROVIDER)\n",
    "\n",
    "conn.close()\n"
   ]
  },
  {
   "cell_type": "code",
   "execution_count": null,
   "id": "f86c0831",
   "metadata": {},
   "outputs": [],
   "source": [
    "# view table \n",
    "query1 = '''\n",
    "SELECT *\n",
    "FROM patient_info ;\n",
    "'''"
   ]
  },
  {
   "cell_type": "code",
   "execution_count": null,
   "id": "b43d44d3",
   "metadata": {},
   "outputs": [],
   "source": [
    "conn = sqlite3.connect('hospital_data.db',timeout=10)\n",
    "df = pd.read_sql(query1, conn)\n",
    "conn.close()"
   ]
  },
  {
   "cell_type": "code",
   "execution_count": null,
   "id": "98efa39b",
   "metadata": {},
   "outputs": [],
   "source": [
    "conn2 = sqlite3.connect('flights.db')"
   ]
  },
  {
   "cell_type": "code",
   "execution_count": null,
   "id": "ec110007",
   "metadata": {},
   "outputs": [],
   "source": [
    "table_query = 'SELECT * FROM sqlite_master;'\n",
    "\n",
    "pd.read_sql(table_query, conn2 )['sql']"
   ]
  },
  {
   "cell_type": "code",
   "execution_count": null,
   "id": "3af9bd90",
   "metadata": {
    "scrolled": true
   },
   "outputs": [],
   "source": [
    "query1 = '''SELECT *\n",
    "            FROM airports\n",
    "        '''\n",
    "\n",
    "pd.read_sql(query1, conn2)"
   ]
  },
  {
   "cell_type": "code",
   "execution_count": null,
   "id": "6cbc24ba",
   "metadata": {},
   "outputs": [],
   "source": [
    "query2 = \"\"\" \n",
    "SELECT name, city, country, CAST(COUNT(DISTINCT(timezone))as INT) as 'Number of Timezones'\n",
    "FROM airports\n",
    "GROUP BY country\n",
    "ORDER BY 'Number of Timezones' DESC;\n",
    "\"\"\"\n",
    "pd.read_sql(query2, conn2)"
   ]
  },
  {
   "cell_type": "code",
   "execution_count": null,
   "id": "a480b885",
   "metadata": {},
   "outputs": [],
   "source": [
    "# highest airport \n",
    "query2 = '''\n",
    "\n",
    "SELECT name, city, country, MAX(altitude)\n",
    "FROM airports\n",
    "'''\n",
    "pd.read_sql(query2,conn2)"
   ]
  },
  {
   "cell_type": "code",
   "execution_count": null,
   "id": "10aa3d9e",
   "metadata": {
    "scrolled": true
   },
   "outputs": [],
   "source": [
    "query3 = '''\n",
    "SELECT name,country, COUNT(DISTINCT(airline)) as 'num airlines'\n",
    "FROM airports\n",
    "JOIN routes \n",
    "ON routes.dest = airports.code\n",
    "GROUP BY name\n",
    "ORDER BY COUNT(DISTINCT(airline)) DESC;\n",
    "'''\n",
    "\n",
    "pd.read_sql(query3, conn2)"
   ]
  },
  {
   "cell_type": "code",
   "execution_count": null,
   "id": "270e31fa",
   "metadata": {},
   "outputs": [],
   "source": [
    "query4 = '''\n",
    "SELECT * \n",
    "FROM airlines \n",
    "JOIN airports \n",
    "on airlines.icao = airports.icao\n",
    "JOIN routes\n",
    "ON routes.dest = airports.code\n",
    "'''\n",
    "\n",
    "pd.set_option('display.max_columns',None)\n",
    "pd.read_sql(query4, conn2)"
   ]
  },
  {
   "cell_type": "code",
   "execution_count": null,
   "id": "4abc9836",
   "metadata": {},
   "outputs": [],
   "source": [
    "query5 = '''\n",
    "SELECT airlines.name, source, dest \n",
    "FROM airlines \n",
    "JOIN airports \n",
    "on airlines.icao = airports.icao\n",
    "JOIN routes\n",
    "ON routes.dest = airports.code\n",
    "WHERE city = 'Pasco' AND airline = 'DL'\n",
    "'''\n",
    "\n",
    "\n",
    "pd.set_option('display.max_columns',None)\n",
    "pd.read_sql(query5, conn2)"
   ]
  },
  {
   "cell_type": "code",
   "execution_count": null,
   "id": "a21514e8",
   "metadata": {
    "scrolled": true
   },
   "outputs": [],
   "source": [
    "query6 = '''\n",
    "SELECT *\n",
    "FROM airlines \n",
    "JOIN airports \n",
    "on airlines.icao = airports.icao\n",
    "JOIN routes\n",
    "ON routes.dest = airports.code\n",
    "LIMIT 5\n",
    "\n",
    "'''\n",
    "pd.set_option('display.max_columns',None)\n",
    "pd.read_sql(query6, conn2)"
   ]
  },
  {
   "cell_type": "code",
   "execution_count": null,
   "id": "ce2d5d17",
   "metadata": {
    "scrolled": true
   },
   "outputs": [],
   "source": [
    "query8 ='''SELECT sub.*\n",
    "  FROM (\n",
    "        SELECT *\n",
    "          FROM airports\n",
    "         WHERE country = 'Canada'\n",
    "       ) sub\n",
    "  WHERE sub.altitude > 5000'''\n",
    "\n",
    "pd.read_sql(query8,conn2)"
   ]
  },
  {
   "cell_type": "code",
   "execution_count": null,
   "id": "d5bd3ca7",
   "metadata": {},
   "outputs": [],
   "source": [
    "query9 ='''\n",
    "SELECT source, dest\n",
    "FROM routes\n",
    "WHERE dest = source\n",
    "\n",
    "'''\n",
    "\n",
    "\n",
    "pd.read_sql(query9,conn2)"
   ]
  },
  {
   "cell_type": "code",
   "execution_count": null,
   "id": "46967712",
   "metadata": {},
   "outputs": [],
   "source": [
    " q = '''select * \n",
    "from airlines'''\n",
    "    \n",
    "pd.read_sql(q,conn2)"
   ]
  },
  {
   "cell_type": "code",
   "execution_count": null,
   "id": "553013c8",
   "metadata": {},
   "outputs": [],
   "source": []
  },
  {
   "cell_type": "code",
   "execution_count": null,
   "id": "0e1cd0d8",
   "metadata": {},
   "outputs": [],
   "source": [
    "## other Analysis"
   ]
  },
  {
   "cell_type": "code",
   "execution_count": null,
   "id": "78da249c",
   "metadata": {},
   "outputs": [],
   "source": [
    "df = pd.read_csv('/Users/brendanhutchinson/Downloads/archive (4)/Train_Inpatientdata-1542865627584.csv')"
   ]
  }
 ],
 "metadata": {
  "kernelspec": {
   "display_name": "Python 3 (ipykernel)",
   "language": "python",
   "name": "python3"
  },
  "language_info": {
   "codemirror_mode": {
    "name": "ipython",
    "version": 3
   },
   "file_extension": ".py",
   "mimetype": "text/x-python",
   "name": "python",
   "nbconvert_exporter": "python",
   "pygments_lexer": "ipython3",
   "version": "3.9.13"
  }
 },
 "nbformat": 4,
 "nbformat_minor": 5
}
